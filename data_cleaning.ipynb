{
 "cells": [
  {
   "cell_type": "markdown",
   "metadata": {},
   "source": [
    "# Nettoyage des datasets"
   ]
  },
  {
   "cell_type": "code",
   "execution_count": null,
   "metadata": {},
   "outputs": [],
   "source": [
    "import pandas as pd\n",
    "import numpy as np\n",
    "import matplotlib.pyplot as plt"
   ]
  },
  {
   "cell_type": "markdown",
   "metadata": {},
   "source": [
    "## Visualisation des datasets"
   ]
  },
  {
   "cell_type": "code",
   "execution_count": 3,
   "metadata": {},
   "outputs": [
    {
     "name": "stdout",
     "output_type": "stream",
     "text": [
      "Index(['Date', 'Country/Region', 'Confirmed', 'Deaths', 'Recovered', 'Active',\n",
      "       'New cases', 'New deaths', 'New recovered', 'WHO Region'],\n",
      "      dtype='object')\n",
      "-------------------\n",
      "Index(['date', 'country', 'cumulative_total_cases', 'daily_new_cases',\n",
      "       'active_cases', 'cumulative_total_deaths', 'daily_new_deaths'],\n",
      "      dtype='object')\n",
      "-------------------\n",
      "Index(['location', 'iso_code', 'date', 'total_cases', 'total_deaths',\n",
      "       'new_cases', 'new_deaths', 'new_cases_smoothed', 'new_deaths_smoothed',\n",
      "       'new_cases_per_million', 'total_cases_per_million',\n",
      "       'new_cases_smoothed_per_million', 'new_deaths_per_million',\n",
      "       'total_deaths_per_million', 'new_deaths_smoothed_per_million'],\n",
      "      dtype='object')\n"
     ]
    }
   ],
   "source": [
    "# Load datasets\n",
    "df1 = pd.read_csv(\"datasets/full_grouped.csv\")\n",
    "df2 = pd.read_csv(\"datasets/worldometer_coronavirus_daily_data.csv\")\n",
    "df3 = pd.read_csv(\"datasets/owid-monkeypox-data.csv\")\n",
    "\n",
    "# Columns preview\n",
    "print(df1.columns)\n",
    "print('-------------------')\n",
    "print(df2.columns)\n",
    "print('-------------------')\n",
    "print(df3.columns)"
   ]
  },
  {
   "cell_type": "markdown",
   "metadata": {},
   "source": [
    "On va conserver la date, le pays, le nb total de cas, de morts, et les cas et morts du jour car ils sont communs aux trois datasets.\n",
    "\n",
    "Le nombre de cas actifs n'est pas présent dans le dataset mpox donc on ne gardera pas cette colonne. D'ailleurs, il est assez difficile de s'assurer que le nombre de cas actifs est précis car il est difficile pour une personne atteinte de savoir précisément quel jour elle a guéri puisque ça se fait au fil du temps.\n",
    "\n",
    "La région est présente dans un seul des trois datasets donc on ne la gardera pas. De plus, on peut la retrouver à partir du pays s'il y a besoin plus tard.\n",
    "\n",
    "On va aussi rajouter une colonne virus pour savoir quelle pandémie est concernée\n",
    "\n",
    "On renomme les noms des colonnes de chaque datasets pour qu'ils soient uniformes"
   ]
  },
  {
   "cell_type": "code",
   "execution_count": 4,
   "metadata": {},
   "outputs": [],
   "source": [
    "columns = [\"date\", \"country\", \"total_cases\",\n",
    "            \"total_deaths\", \"new_cases\", \"new_deaths\"]\n",
    "\n",
    "# Rename columns\n",
    "df1 = df1.rename(columns={\n",
    "    \"Date\": \"date\", \"Country/Region\": \"country\", \"Confirmed\": \"total_cases\",\n",
    "    \"Deaths\": \"total_deaths\", \"New cases\": \"new_cases\", \"New deaths\": \"new_deaths\"\n",
    "})[columns]\n",
    "\n",
    "df2 = df2.rename(columns={\n",
    "    \"date\": \"date\", \"country\": \"country\", \"cumulative_total_cases\": \"total_cases\",\n",
    "    \"daily_new_cases\": \"new_cases\", \"cumulative_total_deaths\": \"total_deaths\", \"daily_new_deaths\": \"new_deaths\"\n",
    "})[columns]\n",
    "\n",
    "df3 = df3.rename(columns={\n",
    "    \"date\": \"date\", \"location\": \"country\", \"total_cases\": \"total_cases\",\n",
    "    \"new_cases\": \"new_cases\", \"total_deaths\": \"total_deaths\", \"new_deaths\": \"new_deaths\"\n",
    "})[columns]\n",
    "\n",
    "# Add 'virus' column\n",
    "df1['virus'] = 'covid'\n",
    "df2['virus'] = 'covid'\n",
    "df3['virus'] = 'monkeypox'"
   ]
  },
  {
   "cell_type": "markdown",
   "metadata": {},
   "source": [
    "Ensuite describe et head pour voir le type des données"
   ]
  },
  {
   "cell_type": "code",
   "execution_count": 34,
   "metadata": {},
   "outputs": [
    {
     "name": "stdout",
     "output_type": "stream",
     "text": [
      "date                     datetime64[ns]\n",
      "country                          object\n",
      "total_cases                       int64\n",
      "total_deaths                      int64\n",
      "new_cases                         int64\n",
      "new_deaths                        int64\n",
      "virus                            object\n",
      "computed_total_cases              int64\n",
      "computed_total_deaths             int64\n",
      "dtype: object\n",
      "Nombre de lignes dans df1: 35156\n",
      "-------------------\n",
      "date                     datetime64[ns]\n",
      "country                          object\n",
      "total_cases                       int64\n",
      "total_deaths                      int64\n",
      "new_cases                         int64\n",
      "new_deaths                        int64\n",
      "virus                            object\n",
      "computed_total_cases              int64\n",
      "computed_total_deaths             int64\n",
      "dtype: object\n",
      "Nombre de lignes dans df1: 184787\n",
      "-------------------\n",
      "date                     datetime64[ns]\n",
      "country                          object\n",
      "total_cases                       int64\n",
      "total_deaths                      int64\n",
      "new_cases                         int64\n",
      "new_deaths                        int64\n",
      "virus                            object\n",
      "computed_total_cases              int64\n",
      "computed_total_deaths             int64\n",
      "dtype: object\n",
      "Nombre de lignes dans df1: 33666\n"
     ]
    }
   ],
   "source": [
    "print(df1.dtypes)\n",
    "print(f\"Nombre de lignes dans df1: {len(df1)}\")\n",
    "print('-------------------')\n",
    "print(df2.dtypes)\n",
    "print(f\"Nombre de lignes dans df1: {len(df2)}\")\n",
    "print('-------------------')\n",
    "print(df3.dtypes)\n",
    "print(f\"Nombre de lignes dans df1: {len(df3)}\")"
   ]
  },
  {
   "cell_type": "markdown",
   "metadata": {},
   "source": [
    "## Valeurs manquantes"
   ]
  },
  {
   "cell_type": "code",
   "execution_count": 6,
   "metadata": {},
   "outputs": [
    {
     "name": "stdout",
     "output_type": "stream",
     "text": [
      "Aucune valeur manquante trouvée dans le DataFrame df1.\n",
      "Lignes avec des valeurs manquantes dans le DataFrame df2:\n",
      "             date      country  total_cases  total_deaths  new_cases  \\\n",
      "0       2020-2-15  Afghanistan          0.0           0.0        NaN   \n",
      "1       2020-2-16  Afghanistan          0.0           0.0        NaN   \n",
      "2       2020-2-17  Afghanistan          0.0           0.0        NaN   \n",
      "3       2020-2-18  Afghanistan          0.0           0.0        NaN   \n",
      "4       2020-2-19  Afghanistan          0.0           0.0        NaN   \n",
      "...           ...          ...          ...           ...        ...   \n",
      "184000  2020-3-19     Zimbabwe          0.0           0.0        NaN   \n",
      "184001  2020-3-20     Zimbabwe          1.0           0.0        NaN   \n",
      "184002  2020-3-21     Zimbabwe          3.0           0.0        2.0   \n",
      "184003  2020-3-22     Zimbabwe          3.0           0.0        0.0   \n",
      "184004  2020-3-23     Zimbabwe          3.0           1.0        0.0   \n",
      "\n",
      "        new_deaths  virus  \n",
      "0              NaN  covid  \n",
      "1              NaN  covid  \n",
      "2              NaN  covid  \n",
      "3              NaN  covid  \n",
      "4              NaN  covid  \n",
      "...            ...    ...  \n",
      "184000         NaN  covid  \n",
      "184001         NaN  covid  \n",
      "184002         NaN  covid  \n",
      "184003         NaN  covid  \n",
      "184004         NaN  covid  \n",
      "\n",
      "[26950 rows x 7 columns]\n",
      "Aucune valeur manquante trouvée dans le DataFrame df3.\n"
     ]
    }
   ],
   "source": [
    "# Afficher les lignes contenant des valeurs manquantes\n",
    "for i, df in enumerate([df1, df2, df3], start=1):\n",
    "    missing_data = df[df.isnull().any(axis=1)]\n",
    "    if not missing_data.empty:\n",
    "        print(f\"Lignes avec des valeurs manquantes dans le DataFrame df{i}:\")\n",
    "        print(missing_data)\n",
    "    else:\n",
    "        print(f\"Aucune valeur manquante trouvée dans le DataFrame df{i}.\")"
   ]
  },
  {
   "cell_type": "code",
   "execution_count": 7,
   "metadata": {
    "vscode": {
     "languageId": "ruby"
    }
   },
   "outputs": [],
   "source": [
    "# Corriger les valeurs manquantes dans les colonnes 'new_cases', 'new_deaths', 'total_cases' et 'total_deaths' en les remplaçant par 0. \n",
    "for df in [df1, df2, df3]:\n",
    "    df['new_cases'] = df['new_cases'].fillna(0)\n",
    "    df['new_deaths'] = df['new_deaths'].fillna(0)\n",
    "    df['total_cases'] = df['total_cases'].fillna(0)\n",
    "    df['total_deaths'] = df['total_deaths'].fillna(0)"
   ]
  },
  {
   "cell_type": "markdown",
   "metadata": {},
   "source": [
    "## Formatage des données"
   ]
  },
  {
   "cell_type": "code",
   "execution_count": 8,
   "metadata": {
    "vscode": {
     "languageId": "ruby"
    }
   },
   "outputs": [
    {
     "name": "stdout",
     "output_type": "stream",
     "text": [
      "date            datetime64[ns]\n",
      "country                 object\n",
      "total_cases              int64\n",
      "total_deaths             int64\n",
      "new_cases                int64\n",
      "new_deaths               int64\n",
      "virus                   object\n",
      "dtype: object\n",
      "-------------------\n",
      "date            datetime64[ns]\n",
      "country                 object\n",
      "total_cases              int64\n",
      "total_deaths             int64\n",
      "new_cases                int64\n",
      "new_deaths               int64\n",
      "virus                   object\n",
      "dtype: object\n",
      "-------------------\n",
      "date            datetime64[ns]\n",
      "country                 object\n",
      "total_cases              int64\n",
      "total_deaths             int64\n",
      "new_cases                int64\n",
      "new_deaths               int64\n",
      "virus                   object\n",
      "dtype: object\n"
     ]
    }
   ],
   "source": [
    "# Format date and virus columns, and convert float columns to int\n",
    "for df in [df1, df2, df3]:\n",
    "    # Convert date to datetime format\n",
    "    df['date'] = pd.to_datetime(df['date'])\n",
    "    \n",
    "    # Ensure virus column is a string\n",
    "    df['virus'] = df['virus'].astype(str)\n",
    "\n",
    "    # Ensure country column is a string\n",
    "    df['country'] = df['country'].astype(str)\n",
    "    \n",
    "    # Convert float columns to int\n",
    "    float_columns = ['total_cases', 'total_deaths', 'new_cases', 'new_deaths']\n",
    "    for col in float_columns:\n",
    "        df[col] = df[col].astype(int)\n",
    "\n",
    "# Print the data types of each column in the dataframes\n",
    "print(df1.dtypes)\n",
    "print('-------------------')\n",
    "print(df2.dtypes)\n",
    "print('-------------------')\n",
    "print(df3.dtypes)"
   ]
  },
  {
   "cell_type": "markdown",
   "metadata": {},
   "source": [
    "## Vérifier les colonnes total"
   ]
  },
  {
   "cell_type": "code",
   "execution_count": 9,
   "metadata": {},
   "outputs": [
    {
     "name": "stdout",
     "output_type": "stream",
     "text": [
      "Nombre d'incohérences dans le DataFrame df1:\n",
      "  - Cas: 1520 incohérences\n",
      "  - Décès: 0 incohérences\n",
      "Nombre d'incohérences dans le DataFrame df2:\n",
      "  - Cas: 0 incohérences\n",
      "  - Décès: 0 incohérences\n",
      "Nombre d'incohérences dans le DataFrame df3:\n",
      "  - Cas: 0 incohérences\n",
      "  - Décès: 0 incohérences\n"
     ]
    }
   ],
   "source": [
    "# Trier les données pour chaque pays dans l'ordre chronologique\n",
    "for df in [df1, df2, df3]:\n",
    "    df.sort_values(by=[\"country\", \"date\"], inplace=True)\n",
    "\n",
    "# Vérifier les incohérences\n",
    "for i, df in enumerate([df1, df2, df3], start=1):\n",
    "    df[\"computed_total_cases\"] = df.groupby(\"country\")[\"new_cases\"].cumsum()\n",
    "    df[\"computed_total_deaths\"] = df.groupby(\"country\")[\"new_deaths\"].cumsum()\n",
    "\n",
    "    # Trouver les lignes où les valeurs cumulées ne correspondent pas aux valeurs déclarées\n",
    "    inconsistent_cases = df[df[\"total_cases\"] < df[\"computed_total_cases\"]]\n",
    "    inconsistent_deaths = df[df[\"total_deaths\"] < df[\"computed_total_deaths\"]]\n",
    "\n",
    "    print(f\"Nombre d'incohérences dans le DataFrame df{i}:\")\n",
    "    print(f\"  - Cas: {len(inconsistent_cases)} incohérences\")\n",
    "    print(f\"  - Décès: {len(inconsistent_deaths)} incohérences\")\n"
   ]
  },
  {
   "cell_type": "markdown",
   "metadata": {},
   "source": [
    "## Visualisons les incohérences pour comprendre la nature des erreurs"
   ]
  },
  {
   "cell_type": "code",
   "execution_count": 35,
   "metadata": {},
   "outputs": [
    {
     "name": "stdout",
     "output_type": "stream",
     "text": [
      "Lignes avec incohérences de cas dans le DataFrame df1:\n",
      "            date              country  total_cases  computed_total_cases\n",
      "30486 2020-07-03  Antigua and Barbuda           68                    69\n",
      "30673 2020-07-04  Antigua and Barbuda           68                    69\n",
      "30860 2020-07-05  Antigua and Barbuda           68                    69\n",
      "31047 2020-07-06  Antigua and Barbuda           70                    71\n",
      "31234 2020-07-07  Antigua and Barbuda           70                    71\n",
      "...          ...                  ...          ...                   ...\n",
      "34407 2020-07-23             Zimbabwe         2124                  2130\n",
      "34594 2020-07-24             Zimbabwe         2296                  2302\n",
      "34781 2020-07-25             Zimbabwe         2434                  2440\n",
      "34968 2020-07-26             Zimbabwe         2512                  2518\n",
      "35155 2020-07-27             Zimbabwe         2704                  2710\n",
      "\n",
      "[1520 rows x 4 columns]\n"
     ]
    }
   ],
   "source": [
    "for i, df in enumerate([df1, df2, df3], start=1): \n",
    "    df[\"computed_total_cases\"] = df.groupby(\"country\")[\"new_cases\"].cumsum()\n",
    "    df[\"computed_total_deaths\"] = df.groupby(\"country\")[\"new_deaths\"].cumsum()\n",
    "\n",
    "    # Trouver les lignes où les valeurs cumulées ne correspondent pas aux valeurs déclarées\n",
    "    inconsistent_cases = df[df[\"total_cases\"] < df[\"computed_total_cases\"]]\n",
    "    inconsistent_deaths = df[df[\"total_deaths\"] < df[\"computed_total_deaths\"]]\n",
    "       \n",
    "    # Afficher les lignes avec des incohérences\n",
    "    if not inconsistent_cases.empty:\n",
    "        print(f\"Lignes avec incohérences de cas dans le DataFrame df{i}:\")\n",
    "        print(inconsistent_cases[['date', 'country', 'total_cases', 'computed_total_cases']])\n",
    "    if not inconsistent_deaths.empty:\n",
    "        print(f\"Lignes avec incohérences de décès dans le DataFrame df{i}:\")\n",
    "        print(inconsistent_deaths[['date', 'country', 'total_deaths', 'computed_total_deaths']])"
   ]
  },
  {
   "cell_type": "markdown",
   "metadata": {},
   "source": [
    "On voit qu'on a des incohérences de calcul dans le total de cas pour le premier dataset. Cela peut etre causé soit par des corrections officielles, soit des erreurs informatiques, soit une erreur humaine à l'entrée des données.\n",
    "Solutions :\n",
    "- Prendre les données de l'autre dataset et écraser celles-ci.\n",
    "- Faire la moyenne avec l'autre dataset\n",
    "- Recalculer manuellement\n",
    "\n",
    "Attention : On remarque quelque chose de très particulier : Les IDs de beaucoup de lignes concernées sont toujours espacées d'une raison d'exactement 187.\n",
    "\n",
    "On va donc d'abord vérifier que le problème est bien présent de la même manière partout. Ensuite, on décidera d'une solution"
   ]
  },
  {
   "cell_type": "code",
   "execution_count": 36,
   "metadata": {},
   "outputs": [
    {
     "name": "stdout",
     "output_type": "stream",
     "text": [
      "🔍 Analyse des écarts entre les indices des incohérences :\n",
      "[187 187 187 187 187 187 187 187 187 187 187 187 187 187 187 187 187 187\n",
      " 187 187]\n",
      "\n",
      "⚠️ Les écarts ne sont pas parfaitement constants.\n",
      "Valeurs uniques d'écarts trouvées : {np.int64(2), np.int64(-16636), np.int64(-14578), np.int64(-19818), np.int64(-1121), np.int64(-12890), np.int64(-16074), np.int64(-16070), np.int64(187), np.int64(-23363), np.int64(-14397), np.int64(-2235), np.int64(-7097), np.int64(-17202), np.int64(-16817), np.int64(-17576), np.int64(-17951), np.int64(-15132), np.int64(-34967), np.int64(-34966), np.int64(-34963), np.int64(-34962), np.int64(-34957), np.int64(-18699), np.int64(-34951), np.int64(-13829), np.int64(-14209)}\n",
      "\n",
      "🌍 Pays concernés par les incohérences :\n",
      "['Antigua and Barbuda' 'Benin' 'China' 'Ecuador' 'Finland' 'France'\n",
      " 'Guyana' 'Honduras' 'Italy' 'Japan' 'Jordan' 'Lithuania' 'Madagascar'\n",
      " 'Mauritius' 'Nepal' 'New Zealand' 'Niger' 'Portugal' 'San Marino'\n",
      " 'South Korea' 'Spain' 'Taiwan*' 'Thailand' 'US' 'Uganda' 'Uruguay'\n",
      " 'Zimbabwe']\n"
     ]
    }
   ],
   "source": [
    "# Détection des incohérences\n",
    "inconsistent_cases = df1[df1[\"total_cases\"] != df1[\"computed_total_cases\"]].copy()\n",
    "\n",
    "# Extraction des index des incohérences\n",
    "incoherent_indices = inconsistent_cases.index.to_numpy()\n",
    "\n",
    "# Vérification de la régularité des indices\n",
    "diffs = incoherent_indices[1:] - incoherent_indices[:-1]  # Calcul des écarts successifs\n",
    "\n",
    "# Affichage des résultats\n",
    "print(\"🔍 Analyse des écarts entre les indices des incohérences :\")\n",
    "print(diffs[:20])  # Afficher les 20 premiers écarts pour voir la tendance\n",
    "\n",
    "# Vérifier si la suite est parfaitement régulière\n",
    "if len(set(diffs)) == 1:\n",
    "    print(f\"\\n✅ Tous les écarts sont constants : {diffs[0]}\")\n",
    "else:\n",
    "    print(\"\\n⚠️ Les écarts ne sont pas parfaitement constants.\")\n",
    "    print(f\"Valeurs uniques d'écarts trouvées : {set(diffs)}\")\n",
    "    \n",
    "# Identifier les pays concernés par les incohérences\n",
    "pays_incoherents = inconsistent_cases['country'].unique()\n",
    "\n",
    "# Afficher les pays concernés\n",
    "print(\"\\n🌍 Pays concernés par les incohérences :\")\n",
    "print(pays_incoherents)"
   ]
  },
  {
   "cell_type": "code",
   "execution_count": 37,
   "metadata": {},
   "outputs": [
    {
     "name": "stdout",
     "output_type": "stream",
     "text": [
      "\n",
      "🔹 Top 10 des pays avec le plus d'incohérences :\n",
      "country\n",
      "China          188\n",
      "Japan          188\n",
      "US             188\n",
      "South Korea    188\n",
      "Taiwan*        188\n",
      "Thailand       188\n",
      "Guyana         126\n",
      "Uruguay        107\n",
      "Uganda         101\n",
      "France          97\n",
      "Name: count, dtype: int64\n",
      "\n",
      "🔹 Top 10 des dates avec le plus d'incohérences :\n",
      "date\n",
      "2020-01-22    6\n",
      "2020-01-23    6\n",
      "2020-01-24    6\n",
      "2020-01-25    6\n",
      "2020-01-26    6\n",
      "2020-01-27    6\n",
      "2020-01-28    6\n",
      "2020-01-29    6\n",
      "2020-01-30    6\n",
      "2020-01-31    6\n",
      "Name: count, dtype: int64\n"
     ]
    },
    {
     "data": {
      "image/png": "[encoded data removed]",
      "text/plain": [
       "<Figure size 1200x500 with 1 Axes>"
      ]
     },
     "metadata": {},
     "output_type": "display_data"
    },
    {
     "data": {
      "image/png": "[encoded data removed]",
      "text/plain": [
       "<Figure size 1200x500 with 1 Axes>"
      ]
     },
     "metadata": {},
     "output_type": "display_data"
    }
   ],
   "source": [
    "# Détection des incohérences\n",
    "inconsistent_cases = df1[df1[\"total_cases\"] != df1[\"computed_total_cases\"]].copy()\n",
    "\n",
    "# Calcul de l'écart entre total_cases et computed_total_cases\n",
    "inconsistent_cases[\"cases_diff\"] = inconsistent_cases[\"computed_total_cases\"] - inconsistent_cases[\"total_cases\"]\n",
    "\n",
    "# Nombre d'incohérences par pays\n",
    "country_counts = inconsistent_cases[\"country\"].value_counts()\n",
    "\n",
    "# Affichage des 10 pays les plus touchés\n",
    "print(\"\\n🔹 Top 10 des pays avec le plus d'incohérences :\")\n",
    "print(country_counts.head(10))\n",
    "\n",
    "# Distribution des erreurs par date\n",
    "date_counts = inconsistent_cases[\"date\"].value_counts().sort_index()\n",
    "\n",
    "# Affichage des 10 dates les plus touchées\n",
    "print(\"\\n🔹 Top 10 des dates avec le plus d'incohérences :\")\n",
    "print(date_counts.head(10))\n",
    "\n",
    "# Visualisation des erreurs sur le temps\n",
    "plt.figure(figsize=(12, 5))\n",
    "plt.plot(date_counts.index, date_counts.values, marker=\"o\", linestyle=\"-\", color=\"red\")\n",
    "plt.xticks(rotation=45)\n",
    "plt.xlabel(\"Date\")\n",
    "plt.ylabel(\"Nombre d'incohérences\")\n",
    "plt.title(\"Évolution des incohérences dans le temps\")\n",
    "plt.grid(True)\n",
    "plt.show()\n",
    "\n",
    "# Visualisation des écarts d'erreurs\n",
    "plt.figure(figsize=(12, 5))\n",
    "plt.hist(inconsistent_cases[\"cases_diff\"], bins=30, color=\"orange\", edgecolor=\"black\")\n",
    "plt.xlabel(\"Différence (computed_total_cases - total_cases)\")\n",
    "plt.ylabel(\"Nombre d'occurrences\")\n",
    "plt.title(\"Distribution des écarts d'incohérences\")\n",
    "plt.grid(True)\n",
    "plt.show()\n"
   ]
  },
  {
   "cell_type": "markdown",
   "metadata": {},
   "source": [
    "Le top 10 des pays les plus touchés nous montre que 6 pays ont exactement le même nombre d'erreurs, ce qui suggère que les statistiques de ces pays ont été rapportés par la même source\n",
    "\n",
    "Le premier graphique nous montre que les erreurs apparaissent en majorité à la même période. C'est la période du pic du covid, donc c'est plutôt logique qu'il y ait des erreurs à cette période.\n",
    "\n",
    "Le dernier graphique nous bien que la plupart des erreurs ont un intervalle régulier de raison 187. Cependant, il y a aussi d'autres lignes qui sont incohérentes mais n'ont pas le même intervalle. Regardons alors s'il s'agit aussi de petites erreurs de seulement 1 cas de différence ou s'il s'agit de gros écarts."
   ]
  },
  {
   "cell_type": "markdown",
   "metadata": {},
   "source": [
    "Comme les deux colonnes sont officielles (new_cases et total_cases), il est difficile de savoir à quelle colonne faire confiance. Lorsqu'on calcule le total des cas à partir des nouveaux cas quotidiens, il y a quelques incohérences qui surviennent. Pour savoir quelle colonne conserver, il faut savoir si l'incohérence de calcul n'est que sur une ligne pour total_cases et dans ce cas il faut la corriger, alors que si l'incohérence continue sur toutes les lignes cela signifie qu'il s'agit certainement d'un ajustement manuel et donc il faut le conserver. Vérifions cela."
   ]
  },
  {
   "cell_type": "code",
   "execution_count": 38,
   "metadata": {
    "vscode": {
     "languageId": "ruby"
    }
   },
   "outputs": [
    {
     "name": "stdout",
     "output_type": "stream",
     "text": [
      "Empty DataFrame\n",
      "Columns: [date, country, total_cases, total_deaths, new_cases, new_deaths, virus, computed_total_cases, computed_total_deaths, inconsistency, is_persistent_inconsistency, is_isolated_inconsistency]\n",
      "Index: []\n"
     ]
    },
    {
     "name": "stderr",
     "output_type": "stream",
     "text": [
      "C:\\Users\\Gabriel\\AppData\\Local\\Temp\\ipykernel_7464\\1798180516.py:7: FutureWarning: Downcasting object dtype arrays on .fillna, .ffill, .bfill is deprecated and will change in a future version. Call result.infer_objects(copy=False) instead. To opt-in to the future behavior, set `pd.set_option('future.no_silent_downcasting', True)`\n",
      "  temp_df1[\"is_persistent_inconsistency\"] = temp_df1.groupby(\"country\")[\"inconsistency\"].shift(-1).fillna(False)\n"
     ]
    }
   ],
   "source": [
    "temp_df1 = df1.copy()\n",
    "\n",
    "# Détection des incohérences\n",
    "temp_df1[\"inconsistency\"] = temp_df1[\"total_cases\"] != temp_df1[\"computed_total_cases\"]\n",
    "\n",
    "# Vérifier si l'incohérence continue sur les dates suivantes (par pays)\n",
    "temp_df1[\"is_persistent_inconsistency\"] = temp_df1.groupby(\"country\")[\"inconsistency\"].shift(-1).fillna(False)\n",
    "\n",
    "# Marquer les incohérences isolées (si c'est une incohérence mais qu'elle ne continue pas)\n",
    "temp_df1[\"is_isolated_inconsistency\"] = temp_df1[\"inconsistency\"] & ~temp_df1[\"is_persistent_inconsistency\"]\n",
    "\n",
    "# Supprimer les incohérences isolées qui ont pour date 2020-07-27\n",
    "temp_df1 = temp_df1[~((temp_df1[\"is_isolated_inconsistency\"]) & (temp_df1[\"date\"] == \"2020-07-27\"))]\n",
    "\n",
    "# Afficher uniquement les incohérences isolées\n",
    "print(temp_df1[temp_df1[\"is_isolated_inconsistency\"]])"
   ]
  },
  {
   "cell_type": "markdown",
   "metadata": {},
   "source": [
    "Après avoir cherché à mettre en avant les incohérences isolées dans le dataset, on se rend compte qu'il n'y en a pas, le dataset a donc déjà dû être nettoyé."
   ]
  },
  {
   "cell_type": "markdown",
   "metadata": {},
   "source": [
    "On va maintenant vérifier si les datasets ont des lignes avec meme pays et meme date"
   ]
  },
  {
   "cell_type": "code",
   "execution_count": 43,
   "metadata": {},
   "outputs": [
    {
     "name": "stdout",
     "output_type": "stream",
     "text": [
      "Aucune ligne avec le même pays et la même date trouvée dans le DataFrame df1.\n",
      "Aucune ligne avec le même pays et la même date trouvée dans le DataFrame df2.\n",
      "Aucune ligne avec le même pays et la même date trouvée dans le DataFrame df3.\n"
     ]
    }
   ],
   "source": [
    "# Vérifier les doublons de dates et de pays dans chaque dataset\n",
    "for i, df in enumerate([df1, df2, df3], start=1):\n",
    "    duplicate_rows = df[df.duplicated(subset=['date', 'country'], keep=False)]\n",
    "    if duplicate_rows.empty:\n",
    "        print(f\"Aucune ligne avec le même pays et la même date trouvée dans le DataFrame df{i}.\")\n",
    "    else:\n",
    "        print(f\"Il y a des lignes avec le même pays et la même date dans le DataFrame df{i} :\")\n",
    "        print(duplicate_rows)"
   ]
  },
  {
   "cell_type": "markdown",
   "metadata": {},
   "source": [
    "Fusionner les datasets"
   ]
  },
  {
   "cell_type": "code",
   "execution_count": 39,
   "metadata": {
    "vscode": {
     "languageId": "ruby"
    }
   },
   "outputs": [
    {
     "name": "stdout",
     "output_type": "stream",
     "text": [
      "(253609, 9)\n",
      "        date      country  total_cases  total_deaths  new_cases  new_deaths  \\\n",
      "0 2020-01-22  Afghanistan            0             0          0           0   \n",
      "1 2020-01-23  Afghanistan            0             0          0           0   \n",
      "2 2020-01-24  Afghanistan            0             0          0           0   \n",
      "3 2020-01-25  Afghanistan            0             0          0           0   \n",
      "4 2020-01-26  Afghanistan            0             0          0           0   \n",
      "\n",
      "   virus  computed_total_cases  computed_total_deaths  \n",
      "0  covid                     0                      0  \n",
      "1  covid                     0                      0  \n",
      "2  covid                     0                      0  \n",
      "3  covid                     0                      0  \n",
      "4  covid                     0                      0  \n"
     ]
    }
   ],
   "source": [
    "# Concatenate the datasets\n",
    "merged_df = pd.concat([df1, df2, df3], ignore_index=True)\n",
    "\n",
    "# Print the shape of the merged dataframe\n",
    "print(merged_df.shape)\n",
    "\n",
    "# Display the first few rows of the merged dataframe\n",
    "print(merged_df.head())"
   ]
  },
  {
   "cell_type": "markdown",
   "metadata": {},
   "source": [
    "Vérifions les noms des pays"
   ]
  },
  {
   "cell_type": "code",
   "execution_count": 40,
   "metadata": {},
   "outputs": [
    {
     "name": "stdout",
     "output_type": "stream",
     "text": [
      "['Afghanistan' 'Albania' 'Algeria' 'Andorra' 'Angola'\n",
      " 'Antigua and Barbuda' 'Argentina' 'Armenia' 'Australia' 'Austria'\n",
      " 'Azerbaijan' 'Bahamas' 'Bahrain' 'Bangladesh' 'Barbados' 'Belarus'\n",
      " 'Belgium' 'Belize' 'Benin' 'Bhutan' 'Bolivia' 'Bosnia and Herzegovina'\n",
      " 'Botswana' 'Brazil' 'Brunei' 'Bulgaria' 'Burkina Faso' 'Burma' 'Burundi'\n",
      " 'Cabo Verde' 'Cambodia' 'Cameroon' 'Canada' 'Central African Republic'\n",
      " 'Chad' 'Chile' 'China' 'Colombia' 'Comoros' 'Congo (Brazzaville)'\n",
      " 'Congo (Kinshasa)' 'Costa Rica' \"Cote d'Ivoire\" 'Croatia' 'Cuba' 'Cyprus'\n",
      " 'Czechia' 'Denmark' 'Djibouti' 'Dominica' 'Dominican Republic' 'Ecuador'\n",
      " 'Egypt' 'El Salvador' 'Equatorial Guinea' 'Eritrea' 'Estonia' 'Eswatini'\n",
      " 'Ethiopia' 'Fiji' 'Finland' 'France' 'Gabon' 'Gambia' 'Georgia' 'Germany'\n",
      " 'Ghana' 'Greece' 'Greenland' 'Grenada' 'Guatemala' 'Guinea'\n",
      " 'Guinea-Bissau' 'Guyana' 'Haiti' 'Holy See' 'Honduras' 'Hungary'\n",
      " 'Iceland' 'India' 'Indonesia' 'Iran' 'Iraq' 'Ireland' 'Israel' 'Italy'\n",
      " 'Jamaica' 'Japan' 'Jordan' 'Kazakhstan' 'Kenya' 'Kosovo' 'Kuwait'\n",
      " 'Kyrgyzstan' 'Laos' 'Latvia' 'Lebanon' 'Lesotho' 'Liberia' 'Libya'\n",
      " 'Liechtenstein' 'Lithuania' 'Luxembourg' 'Madagascar' 'Malawi' 'Malaysia'\n",
      " 'Maldives' 'Mali' 'Malta' 'Mauritania' 'Mauritius' 'Mexico' 'Moldova'\n",
      " 'Monaco' 'Mongolia' 'Montenegro' 'Morocco' 'Mozambique' 'Namibia' 'Nepal'\n",
      " 'Netherlands' 'New Zealand' 'Nicaragua' 'Niger' 'Nigeria'\n",
      " 'North Macedonia' 'Norway' 'Oman' 'Pakistan' 'Panama' 'Papua New Guinea'\n",
      " 'Paraguay' 'Peru' 'Philippines' 'Poland' 'Portugal' 'Qatar' 'Romania'\n",
      " 'Russia' 'Rwanda' 'Saint Kitts and Nevis' 'Saint Lucia'\n",
      " 'Saint Vincent and the Grenadines' 'San Marino' 'Sao Tome and Principe'\n",
      " 'Saudi Arabia' 'Senegal' 'Serbia' 'Seychelles' 'Sierra Leone' 'Singapore'\n",
      " 'Slovakia' 'Slovenia' 'Somalia' 'South Africa' 'South Korea'\n",
      " 'South Sudan' 'Spain' 'Sri Lanka' 'Sudan' 'Suriname' 'Sweden'\n",
      " 'Switzerland' 'Syria' 'Taiwan*' 'Tajikistan' 'Tanzania' 'Thailand'\n",
      " 'Timor-Leste' 'Togo' 'Trinidad and Tobago' 'Tunisia' 'Turkey' 'US'\n",
      " 'Uganda' 'Ukraine' 'United Arab Emirates' 'United Kingdom' 'Uruguay'\n",
      " 'Uzbekistan' 'Venezuela' 'Vietnam' 'West Bank and Gaza' 'Western Sahara'\n",
      " 'Yemen' 'Zambia' 'Zimbabwe' 'Anguilla' 'Antigua And Barbuda' 'Aruba'\n",
      " 'Bermuda' 'Bosnia And Herzegovina' 'British Virgin Islands'\n",
      " 'Brunei Darussalam' 'Caribbean Netherlands' 'Cayman Islands'\n",
      " 'Channel Islands' 'China Hong Kong Sar' 'China Macao Sar' 'Congo'\n",
      " 'Cook Islands' 'Cote D Ivoire' 'Curacao' 'Czech Republic'\n",
      " 'Democratic Republic Of The Congo' 'Faeroe Islands'\n",
      " 'Falkland Islands Malvinas' 'French Guiana' 'French Polynesia'\n",
      " 'Gibraltar' 'Guadeloupe' 'Guinea Bissau' 'Isle Of Man' 'Kiribati'\n",
      " 'Macedonia' 'Marshall Islands' 'Martinique' 'Mayotte' 'Micronesia'\n",
      " 'Montserrat' 'Myanmar' 'Nauru' 'New Caledonia' 'Niue' 'Palau' 'Reunion'\n",
      " 'Saint Barthelemy' 'Saint Helena' 'Saint Kitts And Nevis' 'Saint Martin'\n",
      " 'Saint Pierre And Miquelon' 'Saint Vincent And The Grenadines' 'Samoa'\n",
      " 'Sao Tome And Principe' 'Sint Maarten' 'Solomon Islands'\n",
      " 'State Of Palestine' 'Swaziland' 'Taiwan' 'Timor Leste' 'Tonga'\n",
      " 'Trinidad And Tobago' 'Turks And Caicos Islands' 'UK' 'USA' 'Vanuatu'\n",
      " 'Viet Nam' 'Wallis And Futuna Islands' 'Africa' 'Asia'\n",
      " 'Democratic Republic of Congo' 'Europe' 'Guam' 'North America' 'Oceania'\n",
      " 'Puerto Rico' 'Saint Martin (French part)' 'South America'\n",
      " 'United States' 'World']\n"
     ]
    }
   ],
   "source": [
    "# Display all unique country names\n",
    "country_names = merged_df['country'].unique()\n",
    "print(country_names)"
   ]
  },
  {
   "cell_type": "markdown",
   "metadata": {},
   "source": [
    "Le dataset semble déjà nettoyé. On note qu'il y a une étoile à côté du nom de Taiwan. Elle indique peut-être une différence de statut ou de reconnaissance internationale."
   ]
  },
  {
   "cell_type": "markdown",
   "metadata": {},
   "source": [
    "Traiement des doublons : df1 et df2 sont tous les deux sur le covid et donc après le merge, on aura deux lignes différentes pour certaines dates"
   ]
  },
  {
   "cell_type": "code",
   "execution_count": 41,
   "metadata": {},
   "outputs": [
    {
     "name": "stdout",
     "output_type": "stream",
     "text": [
      "Il y a des lignes avec le virus 'covid' ayant la même date et le même pays :\n",
      "             date   country  total_cases  total_deaths  new_cases  new_deaths  \\\n",
      "6768   2020-01-22     China          548            17          0           0   \n",
      "69596  2020-01-22     China          571            17          0           0   \n",
      "6769   2020-01-23     China          643            18         95           1   \n",
      "69597  2020-01-23     China          830            25        259           8   \n",
      "6770   2020-01-24     China          920            26        277           8   \n",
      "...           ...       ...          ...           ...        ...         ...   \n",
      "217646 2020-07-27     Yemen         1740           497         10           4   \n",
      "34967  2020-07-27    Zambia         4552           140         71           1   \n",
      "218466 2020-07-27    Zambia         4552           140         71           1   \n",
      "35155  2020-07-27  Zimbabwe         2704            36        192           2   \n",
      "219286 2020-07-27  Zimbabwe         2704            36        192           2   \n",
      "\n",
      "        virus  computed_total_cases  computed_total_deaths  \n",
      "6768    covid                     0                      0  \n",
      "69596   covid                     0                      0  \n",
      "6769    covid                    95                      1  \n",
      "69597   covid                   259                      8  \n",
      "6770    covid                   372                      9  \n",
      "...       ...                   ...                    ...  \n",
      "217646  covid                  1739                    495  \n",
      "34967   covid                  4552                    140  \n",
      "218466  covid                  4550                    139  \n",
      "35155   covid                  2710                     36  \n",
      "219286  covid                  2703                     35  \n",
      "\n",
      "[46940 rows x 9 columns]\n"
     ]
    }
   ],
   "source": [
    "merged_df = merged_df.drop_duplicates()\n",
    "\n",
    "# Supposons que les colonnes du virus, de la date et du pays s'appellent 'virus', 'date' et 'pays' respectivement\n",
    "covid_df = merged_df[merged_df['virus'] == 'covid']\n",
    "\n",
    "# Vérifier les doublons de dates et de pays dans les lignes avec le virus \"covid\"\n",
    "duplicate_dates_countries = covid_df[covid_df.duplicated(subset=['date', 'country'], keep=False)]\n",
    "\n",
    "# Trier les doublons par date et pays\n",
    "duplicate_dates_countries = duplicate_dates_countries.sort_values(by=['date', 'country'])\n",
    "\n",
    "if duplicate_dates_countries.empty:\n",
    "    print(\"Aucune ligne avec le virus 'covid' n'a la même date et le même pays qu'une autre ligne avec le virus 'covid'.\")\n",
    "else:\n",
    "    print(\"Il y a des lignes avec le virus 'covid' ayant la même date et le même pays :\")\n",
    "    print(duplicate_dates_countries)"
   ]
  },
  {
   "cell_type": "markdown",
   "metadata": {},
   "source": [
    "En regardant les deux datasets sur le covid on s'aperçoit que df1 est bien plus petit que df2, et énormément de lignes n'ont pas le même nombre de cas. Et si on décide de faire la moyenne des deux, on aura un problème car on ne pourra faire la moyenne que pour une petite partie de lignes puisque df2 est presque 6 fois plus gros. De plus, on a repéré des incohérences de calcul dans df1, donc on peut se demander si le dataset est vraiment correct... On ne va donc pas retenir ce dataset. On aurait pu faire la moyenne des deux datasets pour les lignes en commun entre les deux, sauf qu'il n'y a que 35000 lignes dans le plus petit des deux, et comme le problème métier de l'analyse est d'analyser les tendances d'une pandémie, il est largement préférable d'utiliser un dataset 6 fois plus grand pour couvrir une durée bien plus importante (quasiment deux ans). De plus, le dataset df2 semble déjà nettoyé car il n'y a pas d'incohérence dans les calculs, il n'y a pas de noms de pays similaires donc les données semblent normalisées, il n'y a pas de doublons dans les dates non plus."
   ]
  },
  {
   "cell_type": "code",
   "execution_count": 44,
   "metadata": {},
   "outputs": [],
   "source": [
    "# Dataset final\n",
    "df = pd.concat([df2, df3], ignore_index=True)"
   ]
  },
  {
   "cell_type": "code",
   "execution_count": 46,
   "metadata": {},
   "outputs": [],
   "source": [
    "# Fichier CSV final\n",
    "df.to_csv(\"datasets/final_dataset.csv\", index=False)"
   ]
  }
 ],
 "metadata": {
  "kernelspec": {
   "display_name": "venv",
   "language": "python",
   "name": "python3"
  },
  "language_info": {
   "codemirror_mode": {
    "name": "ipython",
    "version": 3
   },
   "file_extension": ".py",
   "mimetype": "text/x-python",
   "name": "python",
   "nbconvert_exporter": "python",
   "pygments_lexer": "ipython3",
   "version": "3.10.6"
  }
 },
 "nbformat": 4,
 "nbformat_minor": 2
}
